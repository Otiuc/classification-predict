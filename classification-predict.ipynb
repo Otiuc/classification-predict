{
 "cells": [
  {
   "cell_type": "code",
   "execution_count": 1,
   "id": "362de9f7",
   "metadata": {
    "_cell_guid": "b1076dfc-b9ad-4769-8c92-a6c4dae69d19",
    "_uuid": "8f2839f25d086af736a60e9eeb907d3b93b6e0e5",
    "execution": {
     "iopub.execute_input": "2022-10-13T13:21:46.788582Z",
     "iopub.status.busy": "2022-10-13T13:21:46.788036Z",
     "iopub.status.idle": "2022-10-13T13:21:49.129904Z",
     "shell.execute_reply": "2022-10-13T13:21:49.128550Z"
    },
    "papermill": {
     "duration": 2.355562,
     "end_time": "2022-10-13T13:21:49.133520",
     "exception": false,
     "start_time": "2022-10-13T13:21:46.777958",
     "status": "completed"
    },
    "tags": []
   },
   "outputs": [],
   "source": [
    "# This Python 3 environment comes with many helpful analytics libraries installed\n",
    "# It is defined by the kaggle/python Docker image: https://github.com/kaggle/docker-python\n",
    "# For example, here's several helpful packages to load\n",
    "\n",
    "import numpy as np # linear algebra\n",
    "import pandas as pd # data processing, CSV file I/O (e.g. pd.read_csv)\n",
    "import re # regular expression\n",
    "import string # string library\n",
    "import nltk\n",
    "import seaborn as sns\n",
    "import matplotlib.pyplot as plt\n",
    "\n",
    "from sklearn.feature_extraction.text import TfidfVectorizer\n",
    "from sklearn.linear_model import LogisticRegression\n",
    "from sklearn.naive_bayes import MultinomialNB\n",
    "from sklearn.ensemble import RandomForestClassifier, AdaBoostClassifier\n",
    "from sklearn.svm import LinearSVC\n",
    "from sklearn.model_selection import train_test_split\n",
    "from nltk.stem import WordNetLemmatizer\n",
    "from nltk.corpus import stopwords\n",
    "from sklearn.metrics import f1_score"
   ]
  },
  {
   "cell_type": "markdown",
   "id": "88ee3903",
   "metadata": {
    "papermill": {
     "duration": 0.006504,
     "end_time": "2022-10-13T13:21:49.146465",
     "exception": false,
     "start_time": "2022-10-13T13:21:49.139961",
     "status": "completed"
    },
    "tags": []
   },
   "source": [
    "First we need to import our training data from the CSV file provided."
   ]
  },
  {
   "cell_type": "code",
   "execution_count": 2,
   "id": "35ed3520",
   "metadata": {
    "execution": {
     "iopub.execute_input": "2022-10-13T13:21:49.161898Z",
     "iopub.status.busy": "2022-10-13T13:21:49.161424Z",
     "iopub.status.idle": "2022-10-13T13:21:49.275009Z",
     "shell.execute_reply": "2022-10-13T13:21:49.273864Z"
    },
    "papermill": {
     "duration": 0.127718,
     "end_time": "2022-10-13T13:21:49.280633",
     "exception": false,
     "start_time": "2022-10-13T13:21:49.152915",
     "status": "completed"
    },
    "tags": []
   },
   "outputs": [
    {
     "data": {
      "text/html": [
       "<div>\n",
       "<style scoped>\n",
       "    .dataframe tbody tr th:only-of-type {\n",
       "        vertical-align: middle;\n",
       "    }\n",
       "\n",
       "    .dataframe tbody tr th {\n",
       "        vertical-align: top;\n",
       "    }\n",
       "\n",
       "    .dataframe thead th {\n",
       "        text-align: right;\n",
       "    }\n",
       "</style>\n",
       "<table border=\"1\" class=\"dataframe\">\n",
       "  <thead>\n",
       "    <tr style=\"text-align: right;\">\n",
       "      <th></th>\n",
       "      <th>sentiment</th>\n",
       "      <th>message</th>\n",
       "      <th>tweetid</th>\n",
       "    </tr>\n",
       "  </thead>\n",
       "  <tbody>\n",
       "    <tr>\n",
       "      <th>0</th>\n",
       "      <td>1</td>\n",
       "      <td>PolySciMajor EPA chief doesn't think carbon di...</td>\n",
       "      <td>625221</td>\n",
       "    </tr>\n",
       "    <tr>\n",
       "      <th>1</th>\n",
       "      <td>1</td>\n",
       "      <td>It's not like we lack evidence of anthropogeni...</td>\n",
       "      <td>126103</td>\n",
       "    </tr>\n",
       "    <tr>\n",
       "      <th>2</th>\n",
       "      <td>2</td>\n",
       "      <td>RT @RawStory: Researchers say we have three ye...</td>\n",
       "      <td>698562</td>\n",
       "    </tr>\n",
       "    <tr>\n",
       "      <th>3</th>\n",
       "      <td>1</td>\n",
       "      <td>#TodayinMaker# WIRED : 2016 was a pivotal year...</td>\n",
       "      <td>573736</td>\n",
       "    </tr>\n",
       "    <tr>\n",
       "      <th>4</th>\n",
       "      <td>1</td>\n",
       "      <td>RT @SoyNovioDeTodas: It's 2016, and a racist, ...</td>\n",
       "      <td>466954</td>\n",
       "    </tr>\n",
       "  </tbody>\n",
       "</table>\n",
       "</div>"
      ],
      "text/plain": [
       "   sentiment                                            message  tweetid\n",
       "0          1  PolySciMajor EPA chief doesn't think carbon di...   625221\n",
       "1          1  It's not like we lack evidence of anthropogeni...   126103\n",
       "2          2  RT @RawStory: Researchers say we have three ye...   698562\n",
       "3          1  #TodayinMaker# WIRED : 2016 was a pivotal year...   573736\n",
       "4          1  RT @SoyNovioDeTodas: It's 2016, and a racist, ...   466954"
      ]
     },
     "execution_count": 2,
     "metadata": {},
     "output_type": "execute_result"
    }
   ],
   "source": [
    "train = pd.read_csv('/kaggle/input/edsa-sentiment-classification/train.csv')\n",
    "train.head()"
   ]
  },
  {
   "cell_type": "markdown",
   "id": "74c75c29",
   "metadata": {
    "papermill": {
     "duration": 0.006279,
     "end_time": "2022-10-13T13:21:49.293915",
     "exception": false,
     "start_time": "2022-10-13T13:21:49.287636",
     "status": "completed"
    },
    "tags": []
   },
   "source": [
    "Let's see the distribution of sentiments using a bar graph."
   ]
  },
  {
   "cell_type": "code",
   "execution_count": 3,
   "id": "5476e4c8",
   "metadata": {
    "execution": {
     "iopub.execute_input": "2022-10-13T13:21:49.309583Z",
     "iopub.status.busy": "2022-10-13T13:21:49.308930Z",
     "iopub.status.idle": "2022-10-13T13:21:49.594154Z",
     "shell.execute_reply": "2022-10-13T13:21:49.592800Z"
    },
    "papermill": {
     "duration": 0.296955,
     "end_time": "2022-10-13T13:21:49.597280",
     "exception": false,
     "start_time": "2022-10-13T13:21:49.300325",
     "status": "completed"
    },
    "tags": []
   },
   "outputs": [
    {
     "name": "stderr",
     "output_type": "stream",
     "text": [
      "/opt/conda/lib/python3.7/site-packages/seaborn/_decorators.py:43: FutureWarning: Pass the following variables as keyword args: x, y. From version 0.12, the only valid positional argument will be `data`, and passing other arguments without an explicit keyword will result in an error or misinterpretation.\n",
      "  FutureWarning\n"
     ]
    },
    {
     "data": {
      "text/plain": [
       "<AxesSubplot:ylabel='sentiment'>"
      ]
     },
     "execution_count": 3,
     "metadata": {},
     "output_type": "execute_result"
    },
    {
     "data": {
      "image/png": "[encoded data removed]",
      "text/plain": [
       "<Figure size 432x288 with 1 Axes>"
      ]
     },
     "metadata": {
      "needs_background": "light"
     },
     "output_type": "display_data"
    }
   ],
   "source": [
    "plot = train.sentiment.value_counts()\n",
    "sns.barplot(plot.index,plot)"
   ]
  },
  {
   "cell_type": "markdown",
   "id": "6116dab1",
   "metadata": {
    "papermill": {
     "duration": 0.006279,
     "end_time": "2022-10-13T13:21:49.610397",
     "exception": false,
     "start_time": "2022-10-13T13:21:49.604118",
     "status": "completed"
    },
    "tags": []
   },
   "source": [
    "Let us separate the target from X variable."
   ]
  },
  {
   "cell_type": "code",
   "execution_count": 4,
   "id": "5296cf0c",
   "metadata": {
    "execution": {
     "iopub.execute_input": "2022-10-13T13:21:49.627041Z",
     "iopub.status.busy": "2022-10-13T13:21:49.626563Z",
     "iopub.status.idle": "2022-10-13T13:21:49.633467Z",
     "shell.execute_reply": "2022-10-13T13:21:49.631947Z"
    },
    "papermill": {
     "duration": 0.019251,
     "end_time": "2022-10-13T13:21:49.636637",
     "exception": false,
     "start_time": "2022-10-13T13:21:49.617386",
     "status": "completed"
    },
    "tags": []
   },
   "outputs": [],
   "source": [
    "y = train['sentiment']\n",
    "x = train['message']"
   ]
  },
  {
   "cell_type": "markdown",
   "id": "dbe7a622",
   "metadata": {
    "papermill": {
     "duration": 0.007073,
     "end_time": "2022-10-13T13:21:49.651333",
     "exception": false,
     "start_time": "2022-10-13T13:21:49.644260",
     "status": "completed"
    },
    "tags": []
   },
   "source": [
    "Next we can go ahead and do an initial clean of the tweet removing First we need to clean up our tweets to make them easier to understand for the ML algorithm. Here we define a function which takes in a tweet and returns the tweet with all URL's, line breaks, punctuation, numbers and capital letters removed."
   ]
  },
  {
   "cell_type": "code",
   "execution_count": 5,
   "id": "642656a5",
   "metadata": {
    "execution": {
     "iopub.execute_input": "2022-10-13T13:21:49.669003Z",
     "iopub.status.busy": "2022-10-13T13:21:49.668498Z",
     "iopub.status.idle": "2022-10-13T13:21:50.145360Z",
     "shell.execute_reply": "2022-10-13T13:21:50.143671Z"
    },
    "papermill": {
     "duration": 0.489961,
     "end_time": "2022-10-13T13:21:50.148909",
     "exception": false,
     "start_time": "2022-10-13T13:21:49.658948",
     "status": "completed"
    },
    "tags": []
   },
   "outputs": [],
   "source": [
    "def tweet_preprocessor(tweet):\n",
    "    tweet = tweet.replace('\\n', ' ') # remove line breaks\n",
    "    tweet = re.sub(r\"\\bhttps://t.co/\\w+\", '', tweet) # remove URL's\n",
    "    tweet = re.sub('\\w*\\d\\w*', ' ', tweet) # remove numbers\n",
    "    tweet = re.sub('[%s]' % re.escape(string.punctuation), ' ',   \n",
    "            tweet.lower()) # remove capital letters and punctuation\n",
    "    \n",
    "    return tweet\n",
    "\n",
    "x = [tweet_preprocessor(tweet) for tweet in x]"
   ]
  },
  {
   "cell_type": "markdown",
   "id": "5893c87a",
   "metadata": {
    "papermill": {
     "duration": 0.006961,
     "end_time": "2022-10-13T13:21:50.162716",
     "exception": false,
     "start_time": "2022-10-13T13:21:50.155755",
     "status": "completed"
    },
    "tags": []
   },
   "source": [
    "Now let us clean up the tweets using a tokenizer to ensure our model can understand them."
   ]
  },
  {
   "cell_type": "code",
   "execution_count": 6,
   "id": "1448b293",
   "metadata": {
    "execution": {
     "iopub.execute_input": "2022-10-13T13:21:50.181286Z",
     "iopub.status.busy": "2022-10-13T13:21:50.180858Z",
     "iopub.status.idle": "2022-10-13T13:21:50.943350Z",
     "shell.execute_reply": "2022-10-13T13:21:50.941701Z"
    },
    "papermill": {
     "duration": 0.777022,
     "end_time": "2022-10-13T13:21:50.947493",
     "exception": false,
     "start_time": "2022-10-13T13:21:50.170471",
     "status": "completed"
    },
    "tags": []
   },
   "outputs": [],
   "source": [
    "vectorizer = TfidfVectorizer(ngram_range=(1,2), min_df=2, stop_words='english')\n",
    "X_vectorized = vectorizer.fit_transform(x)"
   ]
  },
  {
   "cell_type": "markdown",
   "id": "e9b66886",
   "metadata": {
    "papermill": {
     "duration": 0.007214,
     "end_time": "2022-10-13T13:21:50.961676",
     "exception": false,
     "start_time": "2022-10-13T13:21:50.954462",
     "status": "completed"
    },
    "tags": []
   },
   "source": [
    "Next let's split our data into training and testing sets."
   ]
  },
  {
   "cell_type": "code",
   "execution_count": 7,
   "id": "4744861c",
   "metadata": {
    "execution": {
     "iopub.execute_input": "2022-10-13T13:21:50.978249Z",
     "iopub.status.busy": "2022-10-13T13:21:50.977744Z",
     "iopub.status.idle": "2022-10-13T13:21:50.995931Z",
     "shell.execute_reply": "2022-10-13T13:21:50.994406Z"
    },
    "papermill": {
     "duration": 0.031757,
     "end_time": "2022-10-13T13:21:51.000525",
     "exception": false,
     "start_time": "2022-10-13T13:21:50.968768",
     "status": "completed"
    },
    "tags": []
   },
   "outputs": [],
   "source": [
    "X_train, X_test, y_train, y_test = train_test_split(X_vectorized, y, test_size=.3, shuffle=True, stratify=y, random_state=11)"
   ]
  },
  {
   "cell_type": "markdown",
   "id": "d51de9d3",
   "metadata": {
    "papermill": {
     "duration": 0.006666,
     "end_time": "2022-10-13T13:21:51.016725",
     "exception": false,
     "start_time": "2022-10-13T13:21:51.010059",
     "status": "completed"
    },
    "tags": []
   },
   "source": [
    "Now let us train a model."
   ]
  },
  {
   "cell_type": "code",
   "execution_count": 8,
   "id": "ed8d222b",
   "metadata": {
    "execution": {
     "iopub.execute_input": "2022-10-13T13:21:51.033083Z",
     "iopub.status.busy": "2022-10-13T13:21:51.031990Z",
     "iopub.status.idle": "2022-10-13T13:22:18.202524Z",
     "shell.execute_reply": "2022-10-13T13:22:18.200874Z"
    },
    "papermill": {
     "duration": 27.181821,
     "end_time": "2022-10-13T13:22:18.205617",
     "exception": false,
     "start_time": "2022-10-13T13:21:51.023796",
     "status": "completed"
    },
    "tags": []
   },
   "outputs": [],
   "source": [
    "rfc = RandomForestClassifier()\n",
    "rfc.fit(X_train,y_train)\n",
    "rfc_pred = rfc.predict(X_test)"
   ]
  },
  {
   "cell_type": "markdown",
   "id": "b69d3ccd",
   "metadata": {
    "papermill": {
     "duration": 0.005842,
     "end_time": "2022-10-13T13:22:18.218086",
     "exception": false,
     "start_time": "2022-10-13T13:22:18.212244",
     "status": "completed"
    },
    "tags": []
   },
   "source": [
    "Then let us get the F1 score of the model we trained above, using our test data."
   ]
  },
  {
   "cell_type": "code",
   "execution_count": 9,
   "id": "6a6c61fa",
   "metadata": {
    "execution": {
     "iopub.execute_input": "2022-10-13T13:22:18.233088Z",
     "iopub.status.busy": "2022-10-13T13:22:18.232509Z",
     "iopub.status.idle": "2022-10-13T13:22:18.246914Z",
     "shell.execute_reply": "2022-10-13T13:22:18.245432Z"
    },
    "papermill": {
     "duration": 0.026022,
     "end_time": "2022-10-13T13:22:18.250295",
     "exception": false,
     "start_time": "2022-10-13T13:22:18.224273",
     "status": "completed"
    },
    "tags": []
   },
   "outputs": [
    {
     "data": {
      "text/plain": [
       "0.5440807873549547"
      ]
     },
     "execution_count": 9,
     "metadata": {},
     "output_type": "execute_result"
    }
   ],
   "source": [
    "f1_score(y_test, rfc_pred, average='macro')"
   ]
  },
  {
   "cell_type": "markdown",
   "id": "53d09e98",
   "metadata": {
    "papermill": {
     "duration": 0.006085,
     "end_time": "2022-10-13T13:22:18.263302",
     "exception": false,
     "start_time": "2022-10-13T13:22:18.257217",
     "status": "completed"
    },
    "tags": []
   },
   "source": [
    "Next we remove all retweets as our test set does not include any retweets."
   ]
  },
  {
   "cell_type": "code",
   "execution_count": 10,
   "id": "6d9a4e47",
   "metadata": {
    "execution": {
     "iopub.execute_input": "2022-10-13T13:22:18.278368Z",
     "iopub.status.busy": "2022-10-13T13:22:18.277824Z",
     "iopub.status.idle": "2022-10-13T13:22:18.299830Z",
     "shell.execute_reply": "2022-10-13T13:22:18.297711Z"
    },
    "papermill": {
     "duration": 0.033888,
     "end_time": "2022-10-13T13:22:18.303565",
     "exception": false,
     "start_time": "2022-10-13T13:22:18.269677",
     "status": "completed"
    },
    "tags": []
   },
   "outputs": [
    {
     "name": "stdout",
     "output_type": "stream",
     "text": [
      "(15819, 3)\n"
     ]
    }
   ],
   "source": [
    "train = train[(train.message.str[0:2] != 'rt')]\n",
    "train.head()\n",
    "print(train.shape)"
   ]
  },
  {
   "cell_type": "markdown",
   "id": "6de84bcb",
   "metadata": {
    "papermill": {
     "duration": 0.006,
     "end_time": "2022-10-13T13:22:18.316415",
     "exception": false,
     "start_time": "2022-10-13T13:22:18.310415",
     "status": "completed"
    },
    "tags": []
   },
   "source": [
    "Checking our tweets to see what they look like now."
   ]
  },
  {
   "cell_type": "code",
   "execution_count": 11,
   "id": "36a6dbed",
   "metadata": {
    "execution": {
     "iopub.execute_input": "2022-10-13T13:22:18.332223Z",
     "iopub.status.busy": "2022-10-13T13:22:18.331702Z",
     "iopub.status.idle": "2022-10-13T13:22:18.342687Z",
     "shell.execute_reply": "2022-10-13T13:22:18.340598Z"
    },
    "papermill": {
     "duration": 0.022601,
     "end_time": "2022-10-13T13:22:18.345740",
     "exception": false,
     "start_time": "2022-10-13T13:22:18.323139",
     "status": "completed"
    },
    "tags": []
   },
   "outputs": [
    {
     "name": "stdout",
     "output_type": "stream",
     "text": [
      "0        PolySciMajor EPA chief doesn't think carbon di...\n",
      "1        It's not like we lack evidence of anthropogeni...\n",
      "2        RT @RawStory: Researchers say we have three ye...\n",
      "3        #TodayinMaker# WIRED : 2016 was a pivotal year...\n",
      "4        RT @SoyNovioDeTodas: It's 2016, and a racist, ...\n",
      "                               ...                        \n",
      "15814    RT @ezlusztig: They took down the material on ...\n",
      "15815    RT @washingtonpost: How climate change could b...\n",
      "15816    notiven: RT: nytimesworld :What does Trump act...\n",
      "15817    RT @sara8smiles: Hey liberals the climate chan...\n",
      "15818    RT @Chet_Cannon: .@kurteichenwald's 'climate c...\n",
      "Name: message, Length: 15819, dtype: object\n"
     ]
    }
   ],
   "source": [
    "print(train.message)"
   ]
  },
  {
   "cell_type": "code",
   "execution_count": 12,
   "id": "5b974bf3",
   "metadata": {
    "execution": {
     "iopub.execute_input": "2022-10-13T13:22:18.361899Z",
     "iopub.status.busy": "2022-10-13T13:22:18.361396Z",
     "iopub.status.idle": "2022-10-13T13:22:18.431107Z",
     "shell.execute_reply": "2022-10-13T13:22:18.429188Z"
    },
    "papermill": {
     "duration": 0.082116,
     "end_time": "2022-10-13T13:22:18.434555",
     "exception": false,
     "start_time": "2022-10-13T13:22:18.352439",
     "status": "completed"
    },
    "tags": []
   },
   "outputs": [],
   "source": [
    "test = pd.read_csv('/kaggle/input/edsa-sentiment-classification/test.csv')"
   ]
  },
  {
   "cell_type": "markdown",
   "id": "a755793d",
   "metadata": {
    "papermill": {
     "duration": 0.006115,
     "end_time": "2022-10-13T13:22:18.447199",
     "exception": false,
     "start_time": "2022-10-13T13:22:18.441084",
     "status": "completed"
    },
    "tags": []
   },
   "source": [
    "This is just a placeholder to ensure I get the submission part correct."
   ]
  },
  {
   "cell_type": "code",
   "execution_count": 13,
   "id": "922ac57e",
   "metadata": {
    "execution": {
     "iopub.execute_input": "2022-10-13T13:22:18.462296Z",
     "iopub.status.busy": "2022-10-13T13:22:18.461739Z",
     "iopub.status.idle": "2022-10-13T13:22:18.487418Z",
     "shell.execute_reply": "2022-10-13T13:22:18.485875Z"
    },
    "papermill": {
     "duration": 0.036732,
     "end_time": "2022-10-13T13:22:18.490255",
     "exception": false,
     "start_time": "2022-10-13T13:22:18.453523",
     "status": "completed"
    },
    "tags": []
   },
   "outputs": [],
   "source": [
    "ids = test[\"tweetid\"]\n",
    "submission_df = pd.DataFrame({'tweetid': ids})\n",
    "submission_df = submission_df.assign(sentiment=1)\n",
    "submission_df.to_csv('submission.csv',index=False)"
   ]
  }
 ],
 "metadata": {
  "kernelspec": {
   "display_name": "Python 3",
   "language": "python",
   "name": "python3"
  },
  "language_info": {
   "codemirror_mode": {
    "name": "ipython",
    "version": 3
   },
   "file_extension": ".py",
   "mimetype": "text/x-python",
   "name": "python",
   "nbconvert_exporter": "python",
   "pygments_lexer": "ipython3",
   "version": "3.7.12"
  },
  "papermill": {
   "default_parameters": {},
   "duration": 44.771129,
   "end_time": "2022-10-13T13:22:19.523617",
   "environment_variables": {},
   "exception": null,
   "input_path": "__notebook__.ipynb",
   "output_path": "__notebook__.ipynb",
   "parameters": {},
   "start_time": "2022-10-13T13:21:34.752488",
   "version": "2.3.4"
  }
 },
 "nbformat": 4,
 "nbformat_minor": 5
}
