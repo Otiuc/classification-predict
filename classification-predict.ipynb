{
 "cells": [
  {
   "cell_type": "code",
   "execution_count": 1,
   "id": "bc78c596",
   "metadata": {
    "_cell_guid": "b1076dfc-b9ad-4769-8c92-a6c4dae69d19",
    "_uuid": "8f2839f25d086af736a60e9eeb907d3b93b6e0e5",
    "execution": {
     "iopub.execute_input": "2022-10-04T13:51:31.102333Z",
     "iopub.status.busy": "2022-10-04T13:51:31.101146Z",
     "iopub.status.idle": "2022-10-04T13:51:31.116863Z",
     "shell.execute_reply": "2022-10-04T13:51:31.115703Z"
    },
    "papermill": {
     "duration": 0.024195,
     "end_time": "2022-10-04T13:51:31.120572",
     "exception": false,
     "start_time": "2022-10-04T13:51:31.096377",
     "status": "completed"
    },
    "tags": []
   },
   "outputs": [
    {
     "name": "stdout",
     "output_type": "stream",
     "text": [
      "/kaggle/input/edsa-sentiment-classification/sample_submission.csv\n",
      "/kaggle/input/edsa-sentiment-classification/train.csv\n",
      "/kaggle/input/edsa-sentiment-classification/test.csv\n"
     ]
    }
   ],
   "source": [
    "# This Python 3 environment comes with many helpful analytics libraries installed\n",
    "# It is defined by the kaggle/python Docker image: https://github.com/kaggle/docker-python\n",
    "# For example, here's several helpful packages to load\n",
    "\n",
    "import numpy as np # linear algebra\n",
    "import pandas as pd # data processing, CSV file I/O (e.g. pd.read_csv)\n",
    "\n",
    "# Input data files are available in the read-only \"../input/\" directory\n",
    "# For example, running this (by clicking run or pressing Shift+Enter) will list all files under the input directory\n",
    "\n",
    "import os\n",
    "for dirname, _, filenames in os.walk('/kaggle/input'):\n",
    "    for filename in filenames:\n",
    "        print(os.path.join(dirname, filename))\n",
    "\n",
    "# You can write up to 20GB to the current directory (/kaggle/working/) that gets preserved as output when you create a version using \"Save & Run All\" \n",
    "# You can also write temporary files to /kaggle/temp/, but they won't be saved outside of the current session"
   ]
  },
  {
   "cell_type": "markdown",
   "id": "a3467f7d",
   "metadata": {
    "papermill": {
     "duration": 0.001839,
     "end_time": "2022-10-04T13:51:31.125434",
     "exception": false,
     "start_time": "2022-10-04T13:51:31.123595",
     "status": "completed"
    },
    "tags": []
   },
   "source": [
    "First we need to import our training data from the CSV file provided."
   ]
  },
  {
   "cell_type": "code",
   "execution_count": 2,
   "id": "2ddb4e11",
   "metadata": {
    "execution": {
     "iopub.execute_input": "2022-10-04T13:51:31.131191Z",
     "iopub.status.busy": "2022-10-04T13:51:31.130570Z",
     "iopub.status.idle": "2022-10-04T13:51:31.252851Z",
     "shell.execute_reply": "2022-10-04T13:51:31.252026Z"
    },
    "papermill": {
     "duration": 0.127416,
     "end_time": "2022-10-04T13:51:31.254846",
     "exception": false,
     "start_time": "2022-10-04T13:51:31.127430",
     "status": "completed"
    },
    "tags": []
   },
   "outputs": [
    {
     "data": {
      "text/html": [
       "<div>\n",
       "<style scoped>\n",
       "    .dataframe tbody tr th:only-of-type {\n",
       "        vertical-align: middle;\n",
       "    }\n",
       "\n",
       "    .dataframe tbody tr th {\n",
       "        vertical-align: top;\n",
       "    }\n",
       "\n",
       "    .dataframe thead th {\n",
       "        text-align: right;\n",
       "    }\n",
       "</style>\n",
       "<table border=\"1\" class=\"dataframe\">\n",
       "  <thead>\n",
       "    <tr style=\"text-align: right;\">\n",
       "      <th></th>\n",
       "      <th>sentiment</th>\n",
       "      <th>message</th>\n",
       "      <th>tweetid</th>\n",
       "    </tr>\n",
       "  </thead>\n",
       "  <tbody>\n",
       "    <tr>\n",
       "      <th>0</th>\n",
       "      <td>1</td>\n",
       "      <td>PolySciMajor EPA chief doesn't think carbon di...</td>\n",
       "      <td>625221</td>\n",
       "    </tr>\n",
       "    <tr>\n",
       "      <th>1</th>\n",
       "      <td>1</td>\n",
       "      <td>It's not like we lack evidence of anthropogeni...</td>\n",
       "      <td>126103</td>\n",
       "    </tr>\n",
       "    <tr>\n",
       "      <th>2</th>\n",
       "      <td>2</td>\n",
       "      <td>RT @RawStory: Researchers say we have three ye...</td>\n",
       "      <td>698562</td>\n",
       "    </tr>\n",
       "    <tr>\n",
       "      <th>3</th>\n",
       "      <td>1</td>\n",
       "      <td>#TodayinMaker# WIRED : 2016 was a pivotal year...</td>\n",
       "      <td>573736</td>\n",
       "    </tr>\n",
       "    <tr>\n",
       "      <th>4</th>\n",
       "      <td>1</td>\n",
       "      <td>RT @SoyNovioDeTodas: It's 2016, and a racist, ...</td>\n",
       "      <td>466954</td>\n",
       "    </tr>\n",
       "  </tbody>\n",
       "</table>\n",
       "</div>"
      ],
      "text/plain": [
       "   sentiment                                            message  tweetid\n",
       "0          1  PolySciMajor EPA chief doesn't think carbon di...   625221\n",
       "1          1  It's not like we lack evidence of anthropogeni...   126103\n",
       "2          2  RT @RawStory: Researchers say we have three ye...   698562\n",
       "3          1  #TodayinMaker# WIRED : 2016 was a pivotal year...   573736\n",
       "4          1  RT @SoyNovioDeTodas: It's 2016, and a racist, ...   466954"
      ]
     },
     "execution_count": 2,
     "metadata": {},
     "output_type": "execute_result"
    }
   ],
   "source": [
    "train = pd.read_csv('/kaggle/input/edsa-sentiment-classification/train.csv')\n",
    "train.head()"
   ]
  },
  {
   "cell_type": "markdown",
   "id": "1b9b78b5",
   "metadata": {
    "papermill": {
     "duration": 0.002013,
     "end_time": "2022-10-04T13:51:31.259320",
     "exception": false,
     "start_time": "2022-10-04T13:51:31.257307",
     "status": "completed"
    },
    "tags": []
   },
   "source": [
    "This is just a placeholder to ensure I get the submission part correct."
   ]
  },
  {
   "cell_type": "code",
   "execution_count": 3,
   "id": "c339f563",
   "metadata": {
    "execution": {
     "iopub.execute_input": "2022-10-04T13:51:31.265566Z",
     "iopub.status.busy": "2022-10-04T13:51:31.264591Z",
     "iopub.status.idle": "2022-10-04T13:51:31.292258Z",
     "shell.execute_reply": "2022-10-04T13:51:31.291322Z"
    },
    "papermill": {
     "duration": 0.032978,
     "end_time": "2022-10-04T13:51:31.294492",
     "exception": false,
     "start_time": "2022-10-04T13:51:31.261514",
     "status": "completed"
    },
    "tags": []
   },
   "outputs": [],
   "source": [
    "ids = train[\"tweetid\"]\n",
    "submission_df = pd.DataFrame({'tweetid': ids})\n",
    "submission_df = submission_df.assign(sentiment=1)\n",
    "submission_df.to_csv('submission.csv',index=False)"
   ]
  }
 ],
 "metadata": {
  "kernelspec": {
   "display_name": "Python 3",
   "language": "python",
   "name": "python3"
  },
  "language_info": {
   "codemirror_mode": {
    "name": "ipython",
    "version": 3
   },
   "file_extension": ".py",
   "mimetype": "text/x-python",
   "name": "python",
   "nbconvert_exporter": "python",
   "pygments_lexer": "ipython3",
   "version": "3.7.12"
  },
  "papermill": {
   "default_parameters": {},
   "duration": 9.030456,
   "end_time": "2022-10-04T13:51:31.819771",
   "environment_variables": {},
   "exception": null,
   "input_path": "__notebook__.ipynb",
   "output_path": "__notebook__.ipynb",
   "parameters": {},
   "start_time": "2022-10-04T13:51:22.789315",
   "version": "2.3.4"
  }
 },
 "nbformat": 4,
 "nbformat_minor": 5
}
